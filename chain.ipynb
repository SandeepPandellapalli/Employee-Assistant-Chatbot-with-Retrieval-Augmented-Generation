{
 "cells": [
  {
   "cell_type": "code",
   "execution_count": 1,
   "metadata": {},
   "outputs": [
    {
     "name": "stderr",
     "output_type": "stream",
     "text": [
      "Ignoring wrong pointing object 6 0 (offset 0)\n",
      "Ignoring wrong pointing object 8 0 (offset 0)\n",
      "Ignoring wrong pointing object 10 0 (offset 0)\n",
      "Ignoring wrong pointing object 12 0 (offset 0)\n",
      "Ignoring wrong pointing object 14 0 (offset 0)\n",
      "Ignoring wrong pointing object 16 0 (offset 0)\n",
      "Ignoring wrong pointing object 18 0 (offset 0)\n",
      "Ignoring wrong pointing object 20 0 (offset 0)\n",
      "Ignoring wrong pointing object 27 0 (offset 0)\n",
      "Ignoring wrong pointing object 29 0 (offset 0)\n",
      "Ignoring wrong pointing object 31 0 (offset 0)\n",
      "Ignoring wrong pointing object 33 0 (offset 0)\n",
      "Ignoring wrong pointing object 35 0 (offset 0)\n",
      "Ignoring wrong pointing object 37 0 (offset 0)\n",
      "Ignoring wrong pointing object 45 0 (offset 0)\n",
      "Ignoring wrong pointing object 53 0 (offset 0)\n"
     ]
    },
    {
     "data": {
      "text/plain": [
       "[Document(metadata={'source': 'Employee Handbook copy.pdf', 'page': 0}, page_content=\"                   SAMPLE EMPLOYEE HANDBOOK                            Signature:                   Print Name:                   Date:            Please sign and return to the Manager of Finance and Administration  Wisme'ac  EMPLOYEE HANDBOOK    TABLE OF CONTENTS       PAGE      I.   MISSION .....................................................................................................................................X II.   OVERVIEW.................................................................................................................................X  \"),\n",
       " Document(metadata={'source': 'Employee Handbook copy.pdf', 'page': 1}, page_content=\"Wismettac Employee Handbook  ii ©2004 National Council of Nonproﬁt Associations  May be duplicated, with a>ribution, by charitable organizations.    III.    VOLUNTARY AT-WILL EMPLOYMENT.............................................................................X IV.  EQUAL EMPLOYMENT OPPORTUNITY ............................................................................X V.    POLICY AGAINST WORKPLACE HARASSMENT ............................................................X  VI. SOLICITATION .........................................................................................................................X  VII. HOURS OF WORK, ATTENDANCE AND PUNCTUALITY.............................................X  A. Hours of Work...................................................................................................................X B.  A'endance and Punctuality............................................................................................X   C.  Overtime ............................................................................................................................X  VIII. EMPLOYMENT POLICIES AND PRACTICES.....................................................................X  A. Deﬁnition of Terms...........................................................................................................X  IX. POSITION DESCRIPTION AND SALARY ADMINISTRATION ......................................X  X. WORK REVIEW .........................................................................................................................X  XI. ECONOMIC BENEFITS AND INSURANCE .......................................................................X  A. Health/Life Insurance .......................................................................................................X B. Social Security/Medicare/Medicaid ................................................................................X C. Workers' Compensation and Unemployment Insurance............................................X  D. Retirement Plan .................................................................................................................X  E. Tax Deferred Annuity Plan..............................................................................................X  XII. LEAVE BENEFITS AND OTHER WORK POLICIES ...........................................................X  A. Holidays..............................................................................................................................X B. Vacation........................................................................................................................... XX C. Sick Leave........................................................................................................................ XX D. Personal Leave................................................................................................................ XX E. Military Leave................................................................................................................. XX F. Jury Duty ......................................................................................................................... XX G. Parental Leave................................................................................................................. XX H. Bereavement Leave........................................................................................................ XX I. Extended Personal Leave.............................................................................................. XX J. Severe Weather Conditions .......................................................................................... XX K. Meetings and Conferences...............................................................................................XX XIII.  REIMBURSEMENT OF EXPENSES ..................................................................................... XX  XIV. SEPARATION ......................................................................................................................... XX  \"),\n",
       " Document(metadata={'source': 'Employee Handbook copy.pdf', 'page': 2}, page_content='Wismettac Employee Handbook  iii ©2004 National Council of Nonproﬁt Associations  May be duplicated, with a>ribution, by charitable organizations.    XV. RETURN OF PROPERTY ...................................................................................................... XX XVI. REVIEW OF PERSONNEL AND WORK PRACTICES..................................................... XX  XVII.  PERSONNEL RECORDS ...................................................................................................... XX  XVIII.OUTSIDE EMPLOYMENT..................................................................................................... XX  XIX.  NON-DISCLOSURE OF CONFIDENTIAL INFORMATION......................................... XX XX.  COMPUTER AND INFORMATION SECURITY.............................................................. XX XXI.  INTERNET ACCEPTABLE USE POLICY .......................................................................... XX    '),\n",
       " Document(metadata={'source': 'Employee Handbook copy.pdf', 'page': 3}, page_content=\" 1    I. MISSION    II. OVERVIEW  The Wisme'ac Employee Handbook (the “Handbook”) has been developed to provide general guidelines about Wisme'ac policies and procedures for employees.  It is a guide to assist you in becoming familiar with some of the privileges and obligations of your employment, including Wisme'ac's policy of voluntary at-will employment.  None of the policies or guidelines in the Handbook are intended to give rise to contractual rights or obligations, or to be construed as a guarantee of employment for any speciﬁc period of time, or any speciﬁc type of work.  Additionally, with the exception of the voluntary at-will employment policy, these guidelines are subject to modiﬁcation, amendment or revocation by Wisme'ac at any time, without advance notice.      The personnel polices of Wisme'ac are established by the Board of  Directors, which has delegated authority and responsibility for their administration to the Executive Director.  The Executive Director may, in turn, delegate authority for administering speciﬁc policies.  Employees are encouraged to consult the Executive Director for additional information regarding the policies, procedures, and privileges described in this Handbook.  Questions about personnel ma'ers also may be reviewed with the Executive Director.      Wisme'ac will provide each individual a copy of this Handbook upon employment.  All employees are expected to abide by it. The highest standards of personal and professional ethics and behavior are expected of all Wisme'ac employees.  Further, Wisme'ac expects each employee to display good judgment, diplomacy and courtesy in their professional relationships with members of {ORGANIZATION  NAME}'s Board of Directors, commi'ees, membership, staﬀ, and the general public.    III. VOLUNTARY AT-WILL EMPLOYMENT  Unless an employee has a wri'en employment agreement with {ORGANIZATION  NAME}, which provides diﬀerently, all employment at Wisme'ac is “at-will.”   That means that employees may be terminated from employment with {ORGANIZATION  NAME} with or without cause, and employees are free to leave the employment of  Wisme'ac with or without cause. Any representation by any  Wisme'ac oﬃcer or employee contrary to this policy is not binding upon Wisme'ac unless it is in writing and is signed by the Executive Director with the approval of the Board of Directors.  IV. EQUAL EMPLOYMENT OPPORTUNITY  \"),\n",
       " Document(metadata={'source': 'Employee Handbook copy.pdf', 'page': 4}, page_content=\" 2      Wisme'ac shall follow the spirit and intent of all federal, state and local employment law and is commi'ed to equal employment opportunity.  To that end, the Board of Directors and Executive Director of Wisme'ac will not discriminate against any employee or applicant in a manner that violates the law.   Wisme'ac is commi'ed to providing equal opportunity for all employees and applicants without regard to race, color, religion, national origin, sex, age, marital status, sexual orientation, disability, political aﬃliation, personal appearance, family responsibilities, matriculation or any other characteristic protected under federal, state or local law.  Each person is evaluated on the basis of personal skill and merit.   Wisme'ac’s policy regarding equal employment opportunity applies to all aspects of employment, including recruitment, hiring, job assignments, promotions, working conditions, scheduling, beneﬁts, wage and salary administration, disciplinary action, termination, and social, educational and recreational programs.  The Executive Director shall act as the responsible agent in the full implementation of the Equal Employment Opportunity policy.       Wisme'ac will not tolerate any form of unlawful  discrimination.  All employees are expected to cooperate fully in implementing this policy.  In particular, any employee who believes that any other employee of Wisme'ac may have violated the Equal Employment Opportunity Policy should report the possible violation to the Executive Director.        If Wisme'ac determines that a violation of this policy has occurred, it will take appropriate disciplinary action against the oﬀending party, which can include counseling, warnings, suspensions, and termination.  Employees who report, in good faith, violations of this policy and employees who cooperate with investigations into alleged violations of this policy will not be subject to retaliation.  Upon completion of the investigation, Wisme'ac will inform the employee who made the complaint of the results of the investigation.      Wisme'ac is also commi'ed to complying fully with applicable  disability discrimination laws, and ensuring that equal opportunity in employment exists at Wisme'ac for qualiﬁed persons with disabilities.  All employment practices and activities are conducted on a non-discriminatory basis.  Reasonable accommodations will  be available to all qualiﬁed disabled employees, upon request, so long as the potential accommodation does not create an undue hardship on Wisme'ac.  Employees who believe that they may require an accommodation should discuss these needs with the Executive Director.      If you have any questions regarding this policy, please contact the Executive Director.  V.  POLICY AGAINST WORKPLACE HARASSMENT  \"),\n",
       " Document(metadata={'source': 'Employee Handbook copy.pdf', 'page': 5}, page_content=\" 3      Wisme'ac is commi'ed to providing a work environment for all employees that is free from sexual harassment and other types of discriminatory harassment.  Employees are expected to conduct themselves in a professional manner and to show respect for their co-workers.        Wisme'ac’s commitment begins with the recognition and  acknowledgment that sexual harassment and other types of discriminatory harassment are, of course, unlawful.  To reinforce this commitment, Wisme'ac has developed a policy against harassment and a reporting procedure for employees who have been subjected to or witnessed harassment.  This policy applies to all work-related se'ings and activities, whether inside or outside the workplace, and includes business trips and business-related social events.  Wisme'ac’s property (e.g. telephones, copy machines, facsimile machines, computers, and computer applications such as e-mail and Internet access) may not be used to engage in conduct that violates this policy.  Wisme'ac’s policy against harassment covers employees and other individuals who have a relationship with  Wisme'ac which enables Wisme'ac to exercise some control over the individual’s conduct in places and activities that relate to Wisme'ac’s work (e.g. directors, oﬃcers, contractors, vendors, volunteers, etc.).          Prohibition of Sexual Harassment:  Wisme'ac’s policy against sexual harassment prohibits sexual advances or requests for sexual favors or other physical or verbal conduct of a sexual nature, when: (1) submission to such conduct is made an express or implicit condition of employment; (2) submission to or rejection of such conduct is used as a basis for employment decisions aﬀecting the individual who submits to or rejects such conduct; or (3) such conduct has the purpose or eﬀect of unreasonably interfering with an employee’s work performance or creating an intimidating, hostile, humiliating, or oﬀensive working environment.        While it is not possible to list all of the circumstances which would constitute sexual harassment, the following are some examples:  (1) unwelcome sexual advances -- whether they involve physical touching or not; (2) requests for sexual favors in exchange for actual or promised job beneﬁts such as favorable reviews, salary increases, promotions, increased beneﬁts, or continued employment; or (3) coerced sexual acts.          Depending on the circumstances, the following conduct may also constitute sexual harassment:  (1) use of sexual epithets, jokes, wri'en or oral references to sexual conduct, gossip regarding one’s sex life; (2) sexually oriented comment on an individual’s body, comment about an individual’s sexual activity, deﬁciencies, or prowess; (3) displaying sexually suggestive objects, pictures, cartoons; (4) unwelcome leering, whistling, deliberate brushing against the body in a suggestive manner; (5) sexual gestures or sexually suggestive comments; (6) inquiries into one’s sexual experiences; or (7) discussion of one’s sexual activities.        \"),\n",
       " Document(metadata={'source': 'Employee Handbook copy.pdf', 'page': 6}, page_content=\" 4      While such behavior, depending on the circumstances, may not be severe or pervasive enough to create a sexually hostile work environment, it can nonetheless make co-workers uncomfortable.  Accordingly, such behavior is inappropriate and may result in disciplinary action regardless of whether it is unlawful.        It is also unlawful and expressly against Wisme'ac policy to retaliate against an employee for ﬁling a complaint of sexual harassment or for cooperating with an investigation of a complaint of sexual harassment.        Prohibition of Other Types of Discriminatory Harassment:  It is also against  Wisme'ac’s policy to engage in verbal or physical conduct that denigrates or shows hostility or aversion toward an individual because of his or her race, color, gender, religion, sexual orientation, age, national origin, disability, or other protected category (or that of the individual’s relatives, friends, or associates) that:  (1) has the purpose or eﬀect of creating an intimidating, hostile, humiliating, or oﬀensive working environment; (2) has the purpose or eﬀect of unreasonably interfering with an individual’s work performance; or (3) otherwise adversely aﬀects an individual’s employment opportunities.          Depending on the circumstances, the following conduct may constitute discriminatory harassment:  (1) epithets, slurs, negative stereotyping, jokes, or threatening, intimidating, or hostile acts that relate to race, color, gender, religion, sexual orientation, age, national origin, or disability; and (2) wri'en or graphic material that denigrates or shows hostility toward an individual or group because of race, color, gender, religion, sexual orientation, age, national origin, or disability and that is circulated in the workplace, or placed anywhere in  Wisme'ac’s premises such as on an employee’s desk or workspace or on Wisme'ac’s equipment or bulletin boards.  Other conduct may also constitute discriminatory harassment if it falls within the deﬁnition of discriminatory harassment set forth above.        It is also against Wisme'ac’s policy to retaliate against an employee for ﬁling a complaint of discriminatory harassment or for cooperating in an investigation of a complaint of discriminatory harassment.        Reporting of Harassment:  If you believe that you have experienced or witnessed sexual harassment or other discriminatory harassment by any employee of Wisme'ac, you should report the incident immediately to your supervisor or to the Executive Director.  Possible harassment by others with whom Wisme'ac has a business relationship, including customers and vendors, should also be reported as soon as possible so that appropriate action can be taken.        Wisme'ac will promptly and thoroughly investigate all reports of harassment as discreetly and conﬁdentially as practicable.  The investigation would generally include a private \"),\n",
       " Document(metadata={'source': 'Employee Handbook copy.pdf', 'page': 7}, page_content=\" 5    interview with the person making a report of harassment.  It would also generally be necessary to discuss allegations of harassment with the accused individual and others who may have information relevant to the investigation.  Wisme'ac’s goal is to conduct a thorough investigation, to determine whether harassment occurred, and to determine what action to take if it is determined that improper behavior occurred.          If Wisme'ac determines that a violation of this policy has occurred, it will take appropriate disciplinary action against the oﬀending party, which can include counseling, warnings, suspensions, and termination.  Employees who report violations of this policy and employees who cooperate with investigations into alleged violations of this policy will not be subject to retaliation.  Upon completion of the investigation, {ORGANIZATION  NAME} will inform the employee who made the complaint of the results of the investigation.        Compliance with this policy is a condition of each employee’s employment.  Employees  are encouraged to raise any questions or concerns about this policy or about possible discriminatory harassment with the Executive Director.  In the case where the allegation of harassment is against the Executive Director, please notify the staﬀ member designated as grievance oﬃcer.    VI. SOLICITATION    Employees are prohibited from soliciting (personally or via electronic mail) for membership, pledges, subscriptions, the collection of money or for any other unauthorized purpose anywhere on Wisme'ac property during work time, especially those of a partisan or political nature.  “Work time” includes time spent in actual performance of job duties but does not include lunch periods or breaks.  Non-working employees may not solicit or distribute to working employees.  Persons who are not employed by Wisme'ac may not solicit or distribute literature on Wisme'ac’s premises at any time for any reason.      Employees are prohibited from distributing, circulating or posting (on bulletin boards, refrigerators, walls, etc.) literature, petitions or other materials at any time for any purpose without the prior approval of the Executive Director or his/her designee.  VII. HOURS OF WORK, ATTENDANCE AND PUNCTUALITY  A. Hours of Work  The normal work week for Wisme'ac shall consist of ﬁve (5), seven (7) hour days.  Ordinarily, work hours are from 9:00 a.m. - 5:00 p.m., Monday through Friday, including one hour (unpaid) for lunch.  Employees may request the opportunity to vary their work schedules (within employer-deﬁned limits) to be'er accommodate personal responsibilities.  Subject to Wisme'ac work assignments and Executive Director approval, the employee’s supervisor shall \"),\n",
       " Document(metadata={'source': 'Employee Handbook copy.pdf', 'page': 8}, page_content=\" 6    determine the hours of employment that best suits the needs of the work to be done by the individual employee.    B. A'endance and Punctuality  A'endance is a key factor in your job performance.  Punctuality and regular a'endance are expected of all employees.  Excessive absences (whether excused or unexcused), tardiness or leaving early is unacceptable.  If you are absent for any reason or plan to arrive late or leave early, you must notify your supervisor and the oﬃce manager as far in advance as possible and no later than one hour before the start of your scheduled work day.  In the event of an emergency, you must notify your supervisor as soon as possible.        For all absences extending longer than one day, you must telephone your immediate supervisor prior to the start of each scheduled workday.  When reporting an absence, you should indicate the nature of the problem causing your absence and your expected return-towork date.  A physician’s statement may be required as proof of the need for any illness-related absence regardless of the length of the absence.      Except as provided in other policies, an employee who is absent from work for three consecutive days without notiﬁcation to his or her supervisor or the Executive Director will be considered to have voluntarily terminated his or her employment.  The employee’s ﬁnal paycheck will be mailed to the last mailing address on ﬁle with Wisme'ac.        Excessive absences, tardiness or leaving early will be grounds for discipline up to and including termination.  Depending on the circumstances, including the employee’s length of employment, Wisme'ac may counsel employees prior to termination for excessive absences, tardiness or leaving early.    C.  Overtime     Overtime pay, which is applicable only to Non-Exempt Employees, is for any time worked in excess of 40 hours in a work week.  Only the Executive Director or his or her designee, upon the request of an employee's supervisor, may authorize overtime.  Overtime rate is one and one-half time (1½) the employee's straight time rate, except in instances involving a Sunday or holidays when the rate is two times the regular rate.  Payment of overtime will be provided in the pay period following the period in which it is earned.       \")]"
      ]
     },
     "execution_count": 1,
     "metadata": {},
     "output_type": "execute_result"
    }
   ],
   "source": [
    "from langchain_community.document_loaders import PyPDFLoader\n",
    "loader = PyPDFLoader(\"Employee Handbook copy.pdf\")\n",
    "docs  = loader.load()\n",
    "docs"
   ]
  },
  {
   "cell_type": "code",
   "execution_count": 2,
   "metadata": {},
   "outputs": [
    {
     "data": {
      "text/plain": [
       "[Document(metadata={'source': 'Employee Handbook copy.pdf', 'page': 0}, page_content=\"SAMPLE EMPLOYEE HANDBOOK                            Signature:                   Print Name:                   Date:            Please sign and return to the Manager of Finance and Administration  Wisme'ac  EMPLOYEE HANDBOOK    TABLE OF CONTENTS       PAGE      I.   MISSION .....................................................................................................................................X II.   OVERVIEW.................................................................................................................................X\"),\n",
       " Document(metadata={'source': 'Employee Handbook copy.pdf', 'page': 1}, page_content=\"Wismettac Employee Handbook  ii ©2004 National Council of Nonproﬁt Associations  May be duplicated, with a>ribution, by charitable organizations.    III.    VOLUNTARY AT-WILL EMPLOYMENT.............................................................................X IV.  EQUAL EMPLOYMENT OPPORTUNITY ............................................................................X V.    POLICY AGAINST WORKPLACE HARASSMENT ............................................................X  VI. SOLICITATION .........................................................................................................................X  VII. HOURS OF WORK, ATTENDANCE AND PUNCTUALITY.............................................X  A. Hours of Work...................................................................................................................X B.  A'endance and Punctuality............................................................................................X   C.  Overtime\"),\n",
       " Document(metadata={'source': 'Employee Handbook copy.pdf', 'page': 1}, page_content=\"B.  A'endance and Punctuality............................................................................................X   C.  Overtime ............................................................................................................................X  VIII. EMPLOYMENT POLICIES AND PRACTICES.....................................................................X  A. Deﬁnition of Terms...........................................................................................................X  IX. POSITION DESCRIPTION AND SALARY ADMINISTRATION ......................................X  X. WORK REVIEW .........................................................................................................................X  XI. ECONOMIC BENEFITS AND INSURANCE .......................................................................X  A. Health/Life Insurance .......................................................................................................X B. Social\"),\n",
       " Document(metadata={'source': 'Employee Handbook copy.pdf', 'page': 1}, page_content=\"A. Health/Life Insurance .......................................................................................................X B. Social Security/Medicare/Medicaid ................................................................................X C. Workers' Compensation and Unemployment Insurance............................................X  D. Retirement Plan .................................................................................................................X  E. Tax Deferred Annuity Plan..............................................................................................X  XII. LEAVE BENEFITS AND OTHER WORK POLICIES ...........................................................X  A. Holidays..............................................................................................................................X B. Vacation........................................................................................................................... XX C. Sick\"),\n",
       " Document(metadata={'source': 'Employee Handbook copy.pdf', 'page': 1}, page_content='B. Vacation........................................................................................................................... XX C. Sick Leave........................................................................................................................ XX D. Personal Leave................................................................................................................ XX E. Military Leave................................................................................................................. XX F. Jury Duty ......................................................................................................................... XX G. Parental Leave................................................................................................................. XX H. Bereavement Leave........................................................................................................ XX I. Extended Personal'),\n",
       " Document(metadata={'source': 'Employee Handbook copy.pdf', 'page': 1}, page_content='XX H. Bereavement Leave........................................................................................................ XX I. Extended Personal Leave.............................................................................................. XX J. Severe Weather Conditions .......................................................................................... XX K. Meetings and Conferences...............................................................................................XX XIII.  REIMBURSEMENT OF EXPENSES ..................................................................................... XX  XIV. SEPARATION ......................................................................................................................... XX'),\n",
       " Document(metadata={'source': 'Employee Handbook copy.pdf', 'page': 2}, page_content='Wismettac Employee Handbook  iii ©2004 National Council of Nonproﬁt Associations  May be duplicated, with a>ribution, by charitable organizations.    XV. RETURN OF PROPERTY ...................................................................................................... XX XVI. REVIEW OF PERSONNEL AND WORK PRACTICES..................................................... XX  XVII.  PERSONNEL RECORDS ...................................................................................................... XX  XVIII.OUTSIDE EMPLOYMENT..................................................................................................... XX  XIX.  NON-DISCLOSURE OF CONFIDENTIAL INFORMATION......................................... XX XX.  COMPUTER AND INFORMATION SECURITY.............................................................. XX XXI.  INTERNET ACCEPTABLE USE POLICY .......................................................................... XX'),\n",
       " Document(metadata={'source': 'Employee Handbook copy.pdf', 'page': 3}, page_content=\"1    I. MISSION    II. OVERVIEW  The Wisme'ac Employee Handbook (the “Handbook”) has been developed to provide general guidelines about Wisme'ac policies and procedures for employees.  It is a guide to assist you in becoming familiar with some of the privileges and obligations of your employment, including Wisme'ac's policy of voluntary at-will employment.  None of the policies or guidelines in the Handbook are intended to give rise to contractual rights or obligations, or to be construed as a guarantee of employment for any speciﬁc period of time, or any speciﬁc type of work.  Additionally, with the exception of the voluntary at-will employment policy, these guidelines are subject to modiﬁcation, amendment or revocation by Wisme'ac at any time, without advance notice.      The personnel polices of Wisme'ac are established by the Board of  Directors, which has delegated authority and responsibility for their administration to the Executive Director.  The Executive Director may, in\"),\n",
       " Document(metadata={'source': 'Employee Handbook copy.pdf', 'page': 3}, page_content=\"polices of Wisme'ac are established by the Board of  Directors, which has delegated authority and responsibility for their administration to the Executive Director.  The Executive Director may, in turn, delegate authority for administering speciﬁc policies.  Employees are encouraged to consult the Executive Director for additional information regarding the policies, procedures, and privileges described in this Handbook.  Questions about personnel ma'ers also may be reviewed with the Executive Director.      Wisme'ac will provide each individual a copy of this Handbook upon employment.  All employees are expected to abide by it. The highest standards of personal and professional ethics and behavior are expected of all Wisme'ac employees.  Further, Wisme'ac expects each employee to display good judgment, diplomacy and courtesy in their professional relationships with members of {ORGANIZATION  NAME}'s Board of Directors, commi'ees, membership, staﬀ, and the general public.    III.\"),\n",
       " Document(metadata={'source': 'Employee Handbook copy.pdf', 'page': 3}, page_content=\"good judgment, diplomacy and courtesy in their professional relationships with members of {ORGANIZATION  NAME}'s Board of Directors, commi'ees, membership, staﬀ, and the general public.    III. VOLUNTARY AT-WILL EMPLOYMENT  Unless an employee has a wri'en employment agreement with {ORGANIZATION  NAME}, which provides diﬀerently, all employment at Wisme'ac is “at-will.”   That means that employees may be terminated from employment with {ORGANIZATION  NAME} with or without cause, and employees are free to leave the employment of  Wisme'ac with or without cause. Any representation by any  Wisme'ac oﬃcer or employee contrary to this policy is not binding upon Wisme'ac unless it is in writing and is signed by the Executive Director with the approval of the Board of Directors.  IV. EQUAL EMPLOYMENT OPPORTUNITY\"),\n",
       " Document(metadata={'source': 'Employee Handbook copy.pdf', 'page': 4}, page_content=\"2      Wisme'ac shall follow the spirit and intent of all federal, state and local employment law and is commi'ed to equal employment opportunity.  To that end, the Board of Directors and Executive Director of Wisme'ac will not discriminate against any employee or applicant in a manner that violates the law.   Wisme'ac is commi'ed to providing equal opportunity for all employees and applicants without regard to race, color, religion, national origin, sex, age, marital status, sexual orientation, disability, political aﬃliation, personal appearance, family responsibilities, matriculation or any other characteristic protected under federal, state or local law.  Each person is evaluated on the basis of personal skill and merit.   Wisme'ac’s policy regarding equal employment opportunity applies to all aspects of employment, including recruitment, hiring, job assignments, promotions, working conditions, scheduling, beneﬁts, wage and salary administration, disciplinary action, termination,\"),\n",
       " Document(metadata={'source': 'Employee Handbook copy.pdf', 'page': 4}, page_content=\"to all aspects of employment, including recruitment, hiring, job assignments, promotions, working conditions, scheduling, beneﬁts, wage and salary administration, disciplinary action, termination, and social, educational and recreational programs.  The Executive Director shall act as the responsible agent in the full implementation of the Equal Employment Opportunity policy.       Wisme'ac will not tolerate any form of unlawful  discrimination.  All employees are expected to cooperate fully in implementing this policy.  In particular, any employee who believes that any other employee of Wisme'ac may have violated the Equal Employment Opportunity Policy should report the possible violation to the Executive Director.        If Wisme'ac determines that a violation of this policy has occurred, it will take appropriate disciplinary action against the oﬀending party, which can include counseling, warnings, suspensions, and termination.  Employees who report, in good faith, violations of\"),\n",
       " Document(metadata={'source': 'Employee Handbook copy.pdf', 'page': 4}, page_content=\"it will take appropriate disciplinary action against the oﬀending party, which can include counseling, warnings, suspensions, and termination.  Employees who report, in good faith, violations of this policy and employees who cooperate with investigations into alleged violations of this policy will not be subject to retaliation.  Upon completion of the investigation, Wisme'ac will inform the employee who made the complaint of the results of the investigation.      Wisme'ac is also commi'ed to complying fully with applicable  disability discrimination laws, and ensuring that equal opportunity in employment exists at Wisme'ac for qualiﬁed persons with disabilities.  All employment practices and activities are conducted on a non-discriminatory basis.  Reasonable accommodations will  be available to all qualiﬁed disabled employees, upon request, so long as the potential accommodation does not create an undue hardship on Wisme'ac.  Employees who believe that they may require an\"),\n",
       " Document(metadata={'source': 'Employee Handbook copy.pdf', 'page': 4}, page_content=\"be available to all qualiﬁed disabled employees, upon request, so long as the potential accommodation does not create an undue hardship on Wisme'ac.  Employees who believe that they may require an accommodation should discuss these needs with the Executive Director.      If you have any questions regarding this policy, please contact the Executive Director.  V.  POLICY AGAINST WORKPLACE HARASSMENT\"),\n",
       " Document(metadata={'source': 'Employee Handbook copy.pdf', 'page': 5}, page_content=\"3      Wisme'ac is commi'ed to providing a work environment for all employees that is free from sexual harassment and other types of discriminatory harassment.  Employees are expected to conduct themselves in a professional manner and to show respect for their co-workers.        Wisme'ac’s commitment begins with the recognition and  acknowledgment that sexual harassment and other types of discriminatory harassment are, of course, unlawful.  To reinforce this commitment, Wisme'ac has developed a policy against harassment and a reporting procedure for employees who have been subjected to or witnessed harassment.  This policy applies to all work-related se'ings and activities, whether inside or outside the workplace, and includes business trips and business-related social events.  Wisme'ac’s property (e.g. telephones, copy machines, facsimile machines, computers, and computer applications such as e-mail and Internet access) may not be used to engage in conduct that violates this policy.\"),\n",
       " Document(metadata={'source': 'Employee Handbook copy.pdf', 'page': 5}, page_content=\"property (e.g. telephones, copy machines, facsimile machines, computers, and computer applications such as e-mail and Internet access) may not be used to engage in conduct that violates this policy.  Wisme'ac’s policy against harassment covers employees and other individuals who have a relationship with  Wisme'ac which enables Wisme'ac to exercise some control over the individual’s conduct in places and activities that relate to Wisme'ac’s work (e.g. directors, oﬃcers, contractors, vendors, volunteers, etc.).          Prohibition of Sexual Harassment:  Wisme'ac’s policy against sexual harassment prohibits sexual advances or requests for sexual favors or other physical or verbal conduct of a sexual nature, when: (1) submission to such conduct is made an express or implicit condition of employment; (2) submission to or rejection of such conduct is used as a basis for employment decisions aﬀecting the individual who submits to or rejects such conduct; or (3) such conduct has the purpose\"),\n",
       " Document(metadata={'source': 'Employee Handbook copy.pdf', 'page': 5}, page_content=\"(2) submission to or rejection of such conduct is used as a basis for employment decisions aﬀecting the individual who submits to or rejects such conduct; or (3) such conduct has the purpose or eﬀect of unreasonably interfering with an employee’s work performance or creating an intimidating, hostile, humiliating, or oﬀensive working environment.        While it is not possible to list all of the circumstances which would constitute sexual harassment, the following are some examples:  (1) unwelcome sexual advances -- whether they involve physical touching or not; (2) requests for sexual favors in exchange for actual or promised job beneﬁts such as favorable reviews, salary increases, promotions, increased beneﬁts, or continued employment; or (3) coerced sexual acts.          Depending on the circumstances, the following conduct may also constitute sexual harassment:  (1) use of sexual epithets, jokes, wri'en or oral references to sexual conduct, gossip regarding one’s sex life; (2)\"),\n",
       " Document(metadata={'source': 'Employee Handbook copy.pdf', 'page': 5}, page_content=\"the circumstances, the following conduct may also constitute sexual harassment:  (1) use of sexual epithets, jokes, wri'en or oral references to sexual conduct, gossip regarding one’s sex life; (2) sexually oriented comment on an individual’s body, comment about an individual’s sexual activity, deﬁciencies, or prowess; (3) displaying sexually suggestive objects, pictures, cartoons; (4) unwelcome leering, whistling, deliberate brushing against the body in a suggestive manner; (5) sexual gestures or sexually suggestive comments; (6) inquiries into one’s sexual experiences; or (7) discussion of one’s sexual activities.\"),\n",
       " Document(metadata={'source': 'Employee Handbook copy.pdf', 'page': 6}, page_content=\"4      While such behavior, depending on the circumstances, may not be severe or pervasive enough to create a sexually hostile work environment, it can nonetheless make co-workers uncomfortable.  Accordingly, such behavior is inappropriate and may result in disciplinary action regardless of whether it is unlawful.        It is also unlawful and expressly against Wisme'ac policy to retaliate against an employee for ﬁling a complaint of sexual harassment or for cooperating with an investigation of a complaint of sexual harassment.        Prohibition of Other Types of Discriminatory Harassment:  It is also against  Wisme'ac’s policy to engage in verbal or physical conduct that denigrates or shows hostility or aversion toward an individual because of his or her race, color, gender, religion, sexual orientation, age, national origin, disability, or other protected category (or that of the individual’s relatives, friends, or associates) that:  (1) has the purpose or eﬀect of creating an\"),\n",
       " Document(metadata={'source': 'Employee Handbook copy.pdf', 'page': 6}, page_content=\"sexual orientation, age, national origin, disability, or other protected category (or that of the individual’s relatives, friends, or associates) that:  (1) has the purpose or eﬀect of creating an intimidating, hostile, humiliating, or oﬀensive working environment; (2) has the purpose or eﬀect of unreasonably interfering with an individual’s work performance; or (3) otherwise adversely aﬀects an individual’s employment opportunities.          Depending on the circumstances, the following conduct may constitute discriminatory harassment:  (1) epithets, slurs, negative stereotyping, jokes, or threatening, intimidating, or hostile acts that relate to race, color, gender, religion, sexual orientation, age, national origin, or disability; and (2) wri'en or graphic material that denigrates or shows hostility toward an individual or group because of race, color, gender, religion, sexual orientation, age, national origin, or disability and that is circulated in the workplace, or placed\"),\n",
       " Document(metadata={'source': 'Employee Handbook copy.pdf', 'page': 6}, page_content=\"or shows hostility toward an individual or group because of race, color, gender, religion, sexual orientation, age, national origin, or disability and that is circulated in the workplace, or placed anywhere in  Wisme'ac’s premises such as on an employee’s desk or workspace or on Wisme'ac’s equipment or bulletin boards.  Other conduct may also constitute discriminatory harassment if it falls within the deﬁnition of discriminatory harassment set forth above.        It is also against Wisme'ac’s policy to retaliate against an employee for ﬁling a complaint of discriminatory harassment or for cooperating in an investigation of a complaint of discriminatory harassment.        Reporting of Harassment:  If you believe that you have experienced or witnessed sexual harassment or other discriminatory harassment by any employee of Wisme'ac, you should report the incident immediately to your supervisor or to the Executive Director.  Possible harassment by others with whom Wisme'ac has a business\"),\n",
       " Document(metadata={'source': 'Employee Handbook copy.pdf', 'page': 6}, page_content=\"harassment by any employee of Wisme'ac, you should report the incident immediately to your supervisor or to the Executive Director.  Possible harassment by others with whom Wisme'ac has a business relationship, including customers and vendors, should also be reported as soon as possible so that appropriate action can be taken.        Wisme'ac will promptly and thoroughly investigate all reports of harassment as discreetly and conﬁdentially as practicable.  The investigation would generally include a private\"),\n",
       " Document(metadata={'source': 'Employee Handbook copy.pdf', 'page': 7}, page_content=\"5    interview with the person making a report of harassment.  It would also generally be necessary to discuss allegations of harassment with the accused individual and others who may have information relevant to the investigation.  Wisme'ac’s goal is to conduct a thorough investigation, to determine whether harassment occurred, and to determine what action to take if it is determined that improper behavior occurred.          If Wisme'ac determines that a violation of this policy has occurred, it will take appropriate disciplinary action against the oﬀending party, which can include counseling, warnings, suspensions, and termination.  Employees who report violations of this policy and employees who cooperate with investigations into alleged violations of this policy will not be subject to retaliation.  Upon completion of the investigation, {ORGANIZATION  NAME} will inform the employee who made the complaint of the results of the investigation.        Compliance with this policy is a\"),\n",
       " Document(metadata={'source': 'Employee Handbook copy.pdf', 'page': 7}, page_content=\"retaliation.  Upon completion of the investigation, {ORGANIZATION  NAME} will inform the employee who made the complaint of the results of the investigation.        Compliance with this policy is a condition of each employee’s employment.  Employees  are encouraged to raise any questions or concerns about this policy or about possible discriminatory harassment with the Executive Director.  In the case where the allegation of harassment is against the Executive Director, please notify the staﬀ member designated as grievance oﬃcer.    VI. SOLICITATION    Employees are prohibited from soliciting (personally or via electronic mail) for membership, pledges, subscriptions, the collection of money or for any other unauthorized purpose anywhere on Wisme'ac property during work time, especially those of a partisan or political nature.  “Work time” includes time spent in actual performance of job duties but does not include lunch periods or breaks.  Non-working employees may not solicit or\"),\n",
       " Document(metadata={'source': 'Employee Handbook copy.pdf', 'page': 7}, page_content=\"those of a partisan or political nature.  “Work time” includes time spent in actual performance of job duties but does not include lunch periods or breaks.  Non-working employees may not solicit or distribute to working employees.  Persons who are not employed by Wisme'ac may not solicit or distribute literature on Wisme'ac’s premises at any time for any reason.      Employees are prohibited from distributing, circulating or posting (on bulletin boards, refrigerators, walls, etc.) literature, petitions or other materials at any time for any purpose without the prior approval of the Executive Director or his/her designee.  VII. HOURS OF WORK, ATTENDANCE AND PUNCTUALITY  A. Hours of Work  The normal work week for Wisme'ac shall consist of ﬁve (5), seven (7) hour days.  Ordinarily, work hours are from 9:00 a.m. - 5:00 p.m., Monday through Friday, including one hour (unpaid) for lunch.  Employees may request the opportunity to vary their work schedules (within employer-deﬁned limits) to\"),\n",
       " Document(metadata={'source': 'Employee Handbook copy.pdf', 'page': 7}, page_content=\"are from 9:00 a.m. - 5:00 p.m., Monday through Friday, including one hour (unpaid) for lunch.  Employees may request the opportunity to vary their work schedules (within employer-deﬁned limits) to be'er accommodate personal responsibilities.  Subject to Wisme'ac work assignments and Executive Director approval, the employee’s supervisor shall\"),\n",
       " Document(metadata={'source': 'Employee Handbook copy.pdf', 'page': 8}, page_content=\"6    determine the hours of employment that best suits the needs of the work to be done by the individual employee.    B. A'endance and Punctuality  A'endance is a key factor in your job performance.  Punctuality and regular a'endance are expected of all employees.  Excessive absences (whether excused or unexcused), tardiness or leaving early is unacceptable.  If you are absent for any reason or plan to arrive late or leave early, you must notify your supervisor and the oﬃce manager as far in advance as possible and no later than one hour before the start of your scheduled work day.  In the event of an emergency, you must notify your supervisor as soon as possible.        For all absences extending longer than one day, you must telephone your immediate supervisor prior to the start of each scheduled workday.  When reporting an absence, you should indicate the nature of the problem causing your absence and your expected return-towork date.  A physician’s statement may be required as\"),\n",
       " Document(metadata={'source': 'Employee Handbook copy.pdf', 'page': 8}, page_content=\"scheduled workday.  When reporting an absence, you should indicate the nature of the problem causing your absence and your expected return-towork date.  A physician’s statement may be required as proof of the need for any illness-related absence regardless of the length of the absence.      Except as provided in other policies, an employee who is absent from work for three consecutive days without notiﬁcation to his or her supervisor or the Executive Director will be considered to have voluntarily terminated his or her employment.  The employee’s ﬁnal paycheck will be mailed to the last mailing address on ﬁle with Wisme'ac.        Excessive absences, tardiness or leaving early will be grounds for discipline up to and including termination.  Depending on the circumstances, including the employee’s length of employment, Wisme'ac may counsel employees prior to termination for excessive absences, tardiness or leaving early.    C.  Overtime     Overtime pay, which is applicable only to\"),\n",
       " Document(metadata={'source': 'Employee Handbook copy.pdf', 'page': 8}, page_content=\"employee’s length of employment, Wisme'ac may counsel employees prior to termination for excessive absences, tardiness or leaving early.    C.  Overtime     Overtime pay, which is applicable only to Non-Exempt Employees, is for any time worked in excess of 40 hours in a work week.  Only the Executive Director or his or her designee, upon the request of an employee's supervisor, may authorize overtime.  Overtime rate is one and one-half time (1½) the employee's straight time rate, except in instances involving a Sunday or holidays when the rate is two times the regular rate.  Payment of overtime will be provided in the pay period following the period in which it is earned.\")]"
      ]
     },
     "execution_count": 2,
     "metadata": {},
     "output_type": "execute_result"
    }
   ],
   "source": [
    "from langchain.text_splitter import RecursiveCharacterTextSplitter\n",
    "\n",
    "text_splitter = RecursiveCharacterTextSplitter(\n",
    "                               chunk_size = 1000,\n",
    "                               chunk_overlap = 200, \n",
    "                               )\n",
    "\n",
    "chunkk_documents = text_splitter.split_documents(docs)\n",
    "\n",
    "chunkk_documents"
   ]
  },
  {
   "cell_type": "code",
   "execution_count": 3,
   "metadata": {},
   "outputs": [],
   "source": [
    "## Vector EMbeddings\n",
    "\n",
    "from langchain_openai import OpenAIEmbeddings\n",
    "from langchain_community.vectorstores import FAISS\n",
    "\n",
    "db = FAISS.from_documents(chunkk_documents,\n",
    "                          OpenAIEmbeddings()\n",
    "                          )"
   ]
  },
  {
   "cell_type": "code",
   "execution_count": null,
   "metadata": {},
   "outputs": [],
   "source": [
    "query = \"working hours of an employee\"\n",
    "retrived_result = db.similarity_search(query)\n",
    "print(retrived_result[0].page_content)"
   ]
  },
  {
   "cell_type": "code",
   "execution_count": 4,
   "metadata": {},
   "outputs": [],
   "source": [
    "## Design chat prompt template \n",
    "\n",
    "from langchain_core.prompts import ChatPromptTemplate\n",
    "\n",
    "prompt = ChatPromptTemplate.from_template(\"\"\"\n",
    "Answer the following question based only on the provided context.\n",
    "Think step by step before providing a detailed answer.\n",
    "I will tip you $1000 if the user finds the answer helpful.\n",
    "< context>\n",
    "{context} \n",
    "</ context>\n",
    "Question : {input}                                         \n",
    "\"\"\"                                   \n",
    ")"
   ]
  },
  {
   "cell_type": "code",
   "execution_count": 6,
   "metadata": {},
   "outputs": [
    {
     "data": {
      "text/plain": [
       "ChatOpenAI(client=<openai.resources.chat.completions.Completions object at 0x134756800>, async_client=<openai.resources.chat.completions.AsyncCompletions object at 0x1347f8940>, root_client=<openai.OpenAI object at 0x134754a90>, root_async_client=<openai.AsyncOpenAI object at 0x134756860>, model_kwargs={}, openai_api_key=SecretStr('**********'))"
      ]
     },
     "execution_count": 6,
     "metadata": {},
     "output_type": "execute_result"
    }
   ],
   "source": [
    "from langchain_community.llms import openai\n",
    "from langchain_openai import ChatOpenAI\n",
    "\n",
    "llm = ChatOpenAI(model=\"gpt-3.5-turbo\")\n",
    "llm"
   ]
  },
  {
   "cell_type": "code",
   "execution_count": 8,
   "metadata": {},
   "outputs": [
    {
     "data": {
      "text/plain": [
       "RunnableBinding(bound=RunnableBinding(bound=RunnableAssign(mapper={\n",
       "  context: RunnableLambda(format_docs)\n",
       "}), kwargs={}, config={'run_name': 'format_inputs'}, config_factories=[])\n",
       "| ChatPromptTemplate(input_variables=['context', 'input'], input_types={}, partial_variables={}, messages=[HumanMessagePromptTemplate(prompt=PromptTemplate(input_variables=['context', 'input'], input_types={}, partial_variables={}, template='\\nAnswer the following question based only on the provided context.\\nThink step by step before providing a detailed answer.\\nI will tip you $1000 if the user finds the answer helpful.\\n< context>\\n{context} \\n</ context>\\nQuestion : {input}                                         \\n'), additional_kwargs={})])\n",
       "| ChatOpenAI(client=<openai.resources.chat.completions.Completions object at 0x134756800>, async_client=<openai.resources.chat.completions.AsyncCompletions object at 0x1347f8940>, root_client=<openai.OpenAI object at 0x134754a90>, root_async_client=<openai.AsyncOpenAI object at 0x134756860>, model_kwargs={}, openai_api_key=SecretStr('**********'))\n",
       "| StrOutputParser(), kwargs={}, config={'run_name': 'stuff_documents_chain'}, config_factories=[])"
      ]
     },
     "execution_count": 8,
     "metadata": {},
     "output_type": "execute_result"
    }
   ],
   "source": [
    "## Chain \n",
    "from langchain.chains.combine_documents import create_stuff_documents_chain\n",
    "document_chain = create_stuff_documents_chain(llm, prompt)\n",
    "document_chain"
   ]
  },
  {
   "cell_type": "code",
   "execution_count": 11,
   "metadata": {},
   "outputs": [
    {
     "data": {
      "text/plain": [
       "VectorStoreRetriever(tags=['FAISS', 'OpenAIEmbeddings'], vectorstore=<langchain_community.vectorstores.faiss.FAISS object at 0x1346a56f0>, search_kwargs={})"
      ]
     },
     "execution_count": 11,
     "metadata": {},
     "output_type": "execute_result"
    }
   ],
   "source": [
    "retriever = db.as_retriever()\n",
    "retriever"
   ]
  },
  {
   "cell_type": "code",
   "execution_count": 12,
   "metadata": {},
   "outputs": [],
   "source": [
    "## Retriver chain\n",
    "from langchain.chains import create_retrieval_chain\n",
    "retrieval_chain = create_retrieval_chain(retriever , document_chain)"
   ]
  },
  {
   "cell_type": "code",
   "execution_count": 15,
   "metadata": {},
   "outputs": [
    {
     "data": {
      "text/plain": [
       "\"The normal work hours for an employee at Wisme'ac are from 9:00 a.m. to 5:00 p.m., Monday through Friday, including one hour (unpaid) for lunch. Employees may request to vary their work schedules within employer-defined limits to better accommodate personal responsibilities.\""
      ]
     },
     "execution_count": 15,
     "metadata": {},
     "output_type": "execute_result"
    }
   ],
   "source": [
    "response = retrieval_chain.invoke({\"input\" : \"Work hours of an employee\"})\n",
    "response['answer']"
   ]
  },
  {
   "cell_type": "code",
   "execution_count": 16,
   "metadata": {},
   "outputs": [
    {
     "data": {
      "text/plain": [
       "'This handbook is referring to the company Wismettac.'"
      ]
     },
     "execution_count": 16,
     "metadata": {},
     "output_type": "execute_result"
    }
   ],
   "source": [
    "response = retrieval_chain.invoke({\"input\" : \"To which company is this handbook referring to?\"})\n",
    "response['answer']"
   ]
  },
  {
   "cell_type": "code",
   "execution_count": null,
   "metadata": {},
   "outputs": [],
   "source": []
  },
  {
   "cell_type": "code",
   "execution_count": null,
   "metadata": {},
   "outputs": [],
   "source": [
    "# user_query = st.text_input(\"Enter your question:\", \"\")\n",
    "# if user_query:\n",
    "#     try:\n",
    "#         response = retrieval_chain.invoke({\"input\": user_query})\n",
    "#         #st.write(response)\n",
    "#         st.write(response['answer'])\n",
    "#     except Exception as e:\n",
    "#         st.error(\"An error occurred: \" + str(e))"
   ]
  }
 ],
 "metadata": {
  "kernelspec": {
   "display_name": "Python 3",
   "language": "python",
   "name": "python3"
  },
  "language_info": {
   "codemirror_mode": {
    "name": "ipython",
    "version": 3
   },
   "file_extension": ".py",
   "mimetype": "text/x-python",
   "name": "python",
   "nbconvert_exporter": "python",
   "pygments_lexer": "ipython3",
   "version": "3.10.0"
  },
  "orig_nbformat": 4
 },
 "nbformat": 4,
 "nbformat_minor": 2
}
